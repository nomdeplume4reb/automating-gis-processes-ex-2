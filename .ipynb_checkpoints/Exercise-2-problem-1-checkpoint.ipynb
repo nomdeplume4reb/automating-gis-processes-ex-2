{
 "cells": [
  {
   "cell_type": "markdown",
   "metadata": {},
   "source": [
    "## Problem 1: Create Polygon from lists of coordinates (5 points)\n",
    "\n",
    "In the first problem **you should create a polygon based on the provided coordinates, and plot the polygon on a map.** \n",
    "\n",
    "Two lists;``longitudes`` and``latitudes`` contain the input coordinates for the polygon. The first coordinate pair looks like this: ``(29.99671173095703, 63.748023986816406)``.\n",
    " \n",
    "The codeblocks below help you get started with the task. More detailed instructions are given below. \n"
   ]
  },
  {
   "cell_type": "code",
   "execution_count": 1,
   "metadata": {},
   "outputs": [],
   "source": [
    "import os\n",
    "import geopandas as gpd\n",
    "import matplotlib.pyplot as plt\n",
    "from shapely.geometry import Polygon\n",
    "\n",
    "# Longitudes in decimal degrees\n",
    "longitudes = [29.99671173095703, 31.58196258544922, 27.738052368164062, 26.50013542175293, 26.652359008789062, 25.921663284301758, 22.90027618408203, 23.257217407226562,\n",
    "           23.335693359375, 22.87444305419922, 23.08465003967285, 22.565473556518555, 21.452774047851562, 21.66388702392578, 21.065969467163086, 21.67659568786621,\n",
    "           21.496871948242188, 22.339998245239258, 22.288192749023438, 24.539581298828125, 25.444232940673828, 25.303749084472656, 24.669166564941406, 24.689163208007812,\n",
    "           24.174999237060547, 23.68471908569336, 24.000761032104492, 23.57332992553711, 23.76513671875, 23.430830001831055, 23.6597900390625, 20.580928802490234, 21.320831298828125,\n",
    "           22.398330688476562, 23.97638702392578, 24.934917449951172, 25.7611083984375, 25.95930290222168, 26.476804733276367, 27.91069221496582, 29.1027774810791, 29.29846954345703,\n",
    "           28.4355525970459, 28.817358016967773, 28.459857940673828, 30.028610229492188, 29.075136184692383, 30.13492774963379, 29.818885803222656, 29.640830993652344, 30.57735824584961,\n",
    "           29.99671173095703]\n",
    "\n",
    "# Latitudes in decimal degrees\n",
    "latitudes = [63.748023986816406, 62.90789794921875, 60.511383056640625, 60.44499588012695, 60.646385192871094, 60.243743896484375, 59.806800842285156, 59.91944122314453,\n",
    "           60.02395248413086, 60.14555358886719, 60.3452033996582, 60.211936950683594, 60.56249237060547, 61.54027557373047, 62.59798049926758, 63.02013397216797,\n",
    "           63.20353698730469, 63.27652359008789, 63.525691986083984, 64.79915618896484, 64.9533920288086, 65.51513671875, 65.65470886230469, 65.89610290527344, 65.79151916503906,\n",
    "           66.26332092285156, 66.80228424072266, 67.1570053100586, 67.4168701171875, 67.47978210449219, 67.94589233398438, 69.060302734375, 69.32611083984375, 68.71110534667969,\n",
    "           68.83248901367188, 68.580810546875, 68.98916625976562, 69.68568420410156, 69.9363784790039, 70.08860778808594, 69.70597076416016, 69.48533630371094, 68.90263366699219,\n",
    "           68.84700012207031, 68.53485107421875, 67.69471740722656, 66.90360260009766, 65.70887756347656, 65.6533203125, 64.92096710205078, 64.22373962402344, 63.748023986816406]\n"
   ]
  },
  {
   "cell_type": "markdown",
   "metadata": {},
   "source": [
    "**First, create a Polygon variable `poly` based on the coordinates:**\n",
    "- Create a list of coordinate pairs based on the provided longitudes and latitudes and store the list in a variable `coordpairs`. A coordinate pair can be either a tuple or a list.\n",
    "- Create a shapely Polygon using the `coordpairs` -list. Store the polygon in a variable `poly`.\n",
    "\n",
    "Please use the provided variable names (replace ``None`` with your own code)."
   ]
  },
  {
   "cell_type": "code",
   "execution_count": 8,
   "metadata": {
    "collapsed": false,
    "deletable": false,
    "jupyter": {
     "outputs_hidden": false
    },
    "nbgrader": {
     "cell_type": "code",
     "checksum": "d0885050089331ce5f17e8fde8dab54b",
     "grade": false,
     "grade_id": "Create_polygon_dataframe",
     "locked": false,
     "schema_version": 3,
     "solution": true
    }
   },
   "outputs": [
    {
     "data": {
      "image/svg+xml": [
       "<svg xmlns=\"http://www.w3.org/2000/svg\" xmlns:xlink=\"http://www.w3.org/1999/xlink\" width=\"100.0\" height=\"100.0\" viewBox=\"20.140887451171874 59.3667594909668 11.881116485595701 11.161889648437494\" preserveAspectRatio=\"xMinYMin meet\"><g transform=\"matrix(1,0,0,-1,0,129.8954086303711)\"><path fill-rule=\"evenodd\" fill=\"#66cc99\" stroke=\"#555555\" stroke-width=\"0.23762232971191402\" opacity=\"0.6\" d=\"M 29.99671173095703,63.748023986816406 L 31.58196258544922,62.90789794921875 L 27.738052368164062,60.511383056640625 L 26.50013542175293,60.44499588012695 L 26.652359008789062,60.646385192871094 L 25.921663284301758,60.243743896484375 L 22.90027618408203,59.806800842285156 L 23.257217407226562,59.91944122314453 L 23.335693359375,60.02395248413086 L 22.87444305419922,60.14555358886719 L 23.08465003967285,60.3452033996582 L 22.565473556518555,60.211936950683594 L 21.452774047851562,60.56249237060547 L 21.66388702392578,61.54027557373047 L 21.065969467163086,62.59798049926758 L 21.67659568786621,63.02013397216797 L 21.496871948242188,63.20353698730469 L 22.339998245239258,63.27652359008789 L 22.288192749023438,63.525691986083984 L 24.539581298828125,64.79915618896484 L 25.444232940673828,64.9533920288086 L 25.303749084472656,65.51513671875 L 24.669166564941406,65.65470886230469 L 24.689163208007812,65.89610290527344 L 24.174999237060547,65.79151916503906 L 23.68471908569336,66.26332092285156 L 24.000761032104492,66.80228424072266 L 23.57332992553711,67.1570053100586 L 23.76513671875,67.4168701171875 L 23.430830001831055,67.47978210449219 L 23.6597900390625,67.94589233398438 L 20.580928802490234,69.060302734375 L 21.320831298828125,69.32611083984375 L 22.398330688476562,68.71110534667969 L 23.97638702392578,68.83248901367188 L 24.934917449951172,68.580810546875 L 25.7611083984375,68.98916625976562 L 25.95930290222168,69.68568420410156 L 26.476804733276367,69.9363784790039 L 27.91069221496582,70.08860778808594 L 29.1027774810791,69.70597076416016 L 29.29846954345703,69.48533630371094 L 28.4355525970459,68.90263366699219 L 28.817358016967773,68.84700012207031 L 28.459857940673828,68.53485107421875 L 30.028610229492188,67.69471740722656 L 29.075136184692383,66.90360260009766 L 30.13492774963379,65.70887756347656 L 29.818885803222656,65.6533203125 L 29.640830993652344,64.92096710205078 L 30.57735824584961,64.22373962402344 L 29.99671173095703,63.748023986816406 z\" /></g></svg>"
      ],
      "text/plain": [
       "<shapely.geometry.polygon.Polygon at 0x2a4bd6c3688>"
      ]
     },
     "execution_count": 8,
     "metadata": {},
     "output_type": "execute_result"
    }
   ],
   "source": [
    "# Create a list of coordinate pairs\n",
    "coordpairs = []\n",
    "for lat, long in zip(latitudes, longitudes):\n",
    "    coordpairs.append((long, lat))\n",
    "    \n",
    "# Create a shapely Polygon using the 'coordpairs' -list\n",
    "poly = Polygon(coordpairs)\n",
    "poly"
   ]
  },
  {
   "cell_type": "code",
   "execution_count": 3,
   "metadata": {
    "deletable": false,
    "editable": false,
    "nbgrader": {
     "cell_type": "code",
     "checksum": "8521925bb665eb8aea391d7113419995",
     "grade": true,
     "grade_id": "problem_1_polygon_test",
     "locked": true,
     "points": 0.5,
     "schema_version": 3,
     "solution": false,
     "task": false
    }
   },
   "outputs": [
    {
     "name": "stdout",
     "output_type": "stream",
     "text": [
      "(29.99671173095703, 63.748023986816406)\n"
     ]
    }
   ],
   "source": [
    "# NON-EDITABLE CODE CELL FOR TESTING YOUR SOLUTION\n",
    "# Check the first coordinate pair. Shoud be: (29.99671173095703, 63.748023986816406)\n",
    "print(coordpairs[0])"
   ]
  },
  {
   "cell_type": "code",
   "execution_count": 4,
   "metadata": {
    "deletable": false,
    "editable": false,
    "nbgrader": {
     "cell_type": "code",
     "checksum": "d97686c4f69978d860290610944c6e51",
     "grade": true,
     "grade_id": "problem_1_polygon_dtype_test",
     "locked": true,
     "points": 0.5,
     "schema_version": 3,
     "solution": false,
     "task": false
    }
   },
   "outputs": [
    {
     "ename": "AttributeError",
     "evalue": "'str' object has no attribute 'geom_type'",
     "output_type": "error",
     "traceback": [
      "\u001b[1;31m---------------------------------------------------------------------------\u001b[0m",
      "\u001b[1;31mAttributeError\u001b[0m                            Traceback (most recent call last)",
      "\u001b[1;32m<ipython-input-4-ee173470357d>\u001b[0m in \u001b[0;36m<module>\u001b[1;34m\u001b[0m\n\u001b[0;32m      1\u001b[0m \u001b[1;31m# NON-EDITABLE CODE CELL FOR TESTING YOUR SOLUTION\u001b[0m\u001b[1;33m\u001b[0m\u001b[1;33m\u001b[0m\u001b[1;33m\u001b[0m\u001b[0m\n\u001b[1;32m----> 2\u001b[1;33m \u001b[0mprint\u001b[0m\u001b[1;33m(\u001b[0m\u001b[0mpoly\u001b[0m\u001b[1;33m.\u001b[0m\u001b[0mgeom_type\u001b[0m\u001b[1;33m)\u001b[0m\u001b[1;33m\u001b[0m\u001b[1;33m\u001b[0m\u001b[0m\n\u001b[0m",
      "\u001b[1;31mAttributeError\u001b[0m: 'str' object has no attribute 'geom_type'"
     ]
    }
   ],
   "source": [
    "# NON-EDITABLE CODE CELL FOR TESTING YOUR SOLUTION\n",
    "print(poly.geom_type)"
   ]
  },
  {
   "cell_type": "markdown",
   "metadata": {},
   "source": [
    "**Insert the polygon into a GeoDataFrame called `geo`:**\n",
    "- Create an empty geodataframe variable `geo`\n",
    "- Insert our `poly` -polygon into the `geo` GeoDataFrame into a new column named 'geometry'\n",
    "\n",
    "Please use the provided variable names (replace `None` with your own code)."
   ]
  },
  {
   "cell_type": "code",
   "execution_count": 15,
   "metadata": {
    "deletable": false,
    "nbgrader": {
     "cell_type": "code",
     "checksum": "1939a0fdb94bcf2e9136f151bfe7fe5b",
     "grade": false,
     "grade_id": "cell-346950e229bf5c1d",
     "locked": false,
     "schema_version": 3,
     "solution": true,
     "task": false
    }
   },
   "outputs": [],
   "source": [
    "# Create an empty GeoDataFrame\n",
    "geo = gpd.GeoDataFrame()\n",
    "# Insert the 'poly' -polygon into the 'geo' GeoDataFrame into a new column named 'geometry' \n",
    "geo['geometry'] = poly\n",
    "# YOUR CODE HERE\n"
   ]
  },
  {
   "cell_type": "code",
   "execution_count": 14,
   "metadata": {
    "deletable": false,
    "editable": false,
    "nbgrader": {
     "cell_type": "code",
     "checksum": "992a97552e942c3717cb815ea617f78c",
     "grade": true,
     "grade_id": "problem_1_gpd_test",
     "locked": true,
     "points": 0.5,
     "schema_version": 3,
     "solution": false,
     "task": false
    }
   },
   "outputs": [
    {
     "name": "stdout",
     "output_type": "stream",
     "text": [
      "                                   geometry\n",
      "0   (29.99671173095703, 63.748023986816406)\n",
      "1    (31.58196258544922, 62.90789794921875)\n",
      "2  (27.738052368164062, 60.511383056640625)\n",
      "3    (26.50013542175293, 60.44499588012695)\n",
      "4  (26.652359008789062, 60.646385192871094)\n"
     ]
    }
   ],
   "source": [
    "# NON-EDITABLE CODE CELL FOR TESTING YOUR SOLUTION\n",
    "print(geo.head())"
   ]
  },
  {
   "cell_type": "code",
   "execution_count": 16,
   "metadata": {
    "collapsed": false,
    "deletable": false,
    "editable": false,
    "jupyter": {
     "outputs_hidden": false
    },
    "nbgrader": {
     "cell_type": "code",
     "checksum": "e7a0e1b4a1606e363b8949fafcf26a9d",
     "grade": true,
     "grade_id": "problem_1_Create_polygon_dataframe_test",
     "locked": true,
     "points": 1.5,
     "schema_version": 3,
     "solution": false
    }
   },
   "outputs": [
    {
     "name": "stdout",
     "output_type": "stream",
     "text": [
      "0\n"
     ]
    }
   ],
   "source": [
    "# NON-EDITABLE CODE CELL FOR TESTING YOUR SOLUTION\n",
    "print(len(geo))"
   ]
  },
  {
   "cell_type": "markdown",
   "metadata": {},
   "source": [
    "**Finally:**\n",
    "- plot the polygon. Note: you might need to call `matplotlib pyplot show()` -method in order to display the map"
   ]
  },
  {
   "cell_type": "code",
   "execution_count": 17,
   "metadata": {
    "collapsed": false,
    "deletable": false,
    "jupyter": {
     "outputs_hidden": false
    },
    "nbgrader": {
     "cell_type": "code",
     "checksum": "1e6baa7cc11948b0093f2c85d447b7d3",
     "grade": false,
     "grade_id": "Plot_and_save",
     "locked": false,
     "schema_version": 3,
     "solution": true
    }
   },
   "outputs": [
    {
     "name": "stderr",
     "output_type": "stream",
     "text": [
      "C:\\Users\\rache\\Anaconda3\\lib\\site-packages\\geopandas\\plotting.py:510: UserWarning: The GeoDataFrame you are attempting to plot is empty. Nothing has been displayed.\n",
      "  UserWarning,\n"
     ]
    },
    {
     "data": {
      "image/png": "[encoded data removed]",
      "text/plain": [
       "<Figure size 432x288 with 1 Axes>"
      ]
     },
     "metadata": {
      "needs_background": "light"
     },
     "output_type": "display_data"
    }
   ],
   "source": [
    "# Plot the polygon. What shape is it :) ?\n",
    "\n",
    "# YOUR CODE HERE\n",
    "geo.plot()\n",
    "plt.show()"
   ]
  },
  {
   "cell_type": "markdown",
   "metadata": {},
   "source": [
    "What can you see on the map? :) "
   ]
  },
  {
   "cell_type": "markdown",
   "metadata": {},
   "source": [
    "- save the GeoDataFrame into a Shapefile called `'polygon.shp'`. "
   ]
  },
  {
   "cell_type": "code",
   "execution_count": null,
   "metadata": {
    "deletable": false,
    "nbgrader": {
     "cell_type": "code",
     "checksum": "dd7d9c1d0827965db239660ffec2c869",
     "grade": false,
     "grade_id": "cell-e5333763712b4b40",
     "locked": false,
     "schema_version": 3,
     "solution": true,
     "task": false
    }
   },
   "outputs": [],
   "source": [
    "# Save the GeoDataFrame into a new Shapefile called 'polygon.shp'.\n",
    "fp = 'polygon.shp'\n",
    "\n",
    "# YOUR CODE HERE\n",
    "raise NotImplementedError()"
   ]
  },
  {
   "cell_type": "code",
   "execution_count": null,
   "metadata": {
    "collapsed": false,
    "deletable": false,
    "editable": false,
    "jupyter": {
     "outputs_hidden": false
    },
    "nbgrader": {
     "cell_type": "code",
     "checksum": "0f524488ea2e4861463d4589fe253487",
     "grade": true,
     "grade_id": "problem_1_plot_and_save_test",
     "locked": true,
     "points": 2,
     "schema_version": 3,
     "solution": false
    }
   },
   "outputs": [],
   "source": [
    "# NON-EDITABLE CODE CELL FOR TESTING YOUR SOLUTION\n",
    "assert os.path.isfile(fp), \"output shapefile does not exits\""
   ]
  },
  {
   "cell_type": "markdown",
   "metadata": {},
   "source": [
    "Next, you can continue to [Exercise-2 Problem 2](Exercise-2-problem-2.ipynb)"
   ]
  }
 ],
 "metadata": {
  "anaconda-cloud": {},
  "kernelspec": {
   "display_name": "Python 3",
   "language": "python",
   "name": "python3"
  },
  "language_info": {
   "codemirror_mode": {
    "name": "ipython",
    "version": 3
   },
   "file_extension": ".py",
   "mimetype": "text/x-python",
   "name": "python",
   "nbconvert_exporter": "python",
   "pygments_lexer": "ipython3",
   "version": "3.7.4"
  }
 },
 "nbformat": 4,
 "nbformat_minor": 4
}
