{
 "cells": [
  {
   "cell_type": "markdown",
   "metadata": {},
   "source": [
    "## Problem 3: How long distance individuals have travelled? (8 points)\n",
    "\n",
    "In this problem the aim is to calculate the distance in meters that the individuals have travelled according the social media posts (Euclidean distances between points). In this problem, we will need the `userid` -column an the points created in the previous problem. You will need the shapefile `Kruger_posts.shp` generated in Problem 2 as input file.\n",
    "\n",
    "Our goal is to answer these questions based on the input data:\n",
    "\n",
    " - What was the shortest distance travelled in meters?\n",
    " - What was the mean distance travelled in meters?\n",
    " - What was the maximum distance travelled in meters?\n",
    "\n",
    "**In your code, you should first:**\n",
    " - Import required modules\n",
    " - Read in the shapefile as a geodataframe called `data`"
   ]
  },
  {
   "cell_type": "code",
   "execution_count": 1,
   "metadata": {
    "deletable": false,
    "nbgrader": {
     "cell_type": "code",
     "checksum": "988845921e1467790d136a8aafbdcfb1",
     "grade": false,
     "grade_id": "read_data",
     "locked": false,
     "schema_version": 3,
     "solution": true
    }
   },
   "outputs": [
    {
     "name": "stdout",
     "output_type": "stream",
     "text": [
      "         lat        lon         timestamp    userid  \\\n",
      "0 -24.980792  31.484633  2015-07-07 03:02  66487960   \n",
      "1 -25.499225  31.508906  2015-07-07 03:18  65281761   \n",
      "2 -24.342578  30.930866  2015-03-07 03:38  90916112   \n",
      "3 -24.854614  31.519718  2015-10-07 05:04  37959089   \n",
      "4 -24.921069  31.520836  2015-10-07 05:19  27793716   \n",
      "\n",
      "                     geometry  \n",
      "0  POINT (31.48463 -24.98079)  \n",
      "1  POINT (31.50891 -25.49922)  \n",
      "2  POINT (30.93087 -24.34258)  \n",
      "3  POINT (31.51972 -24.85461)  \n",
      "4  POINT (31.52084 -24.92107)  \n",
      "(81379, 5)\n"
     ]
    }
   ],
   "source": [
    "# YOUR CODE HERE\n",
    "import pandas as pd\n",
    "import geopandas as gpd\n",
    "import matplotlib.pyplot as plt\n",
    "from shapely.geometry import Polygon, Point, LineString\n",
    "\n",
    "data = gpd.read_file('Kruger_posts.shp')\n",
    "print(data.head())\n",
    "print(data.shape)"
   ]
  },
  {
   "cell_type": "markdown",
   "metadata": {},
   "source": [
    " - Check the crs of the input data. If this information is missing, set it as epsg:4326 (WGS84).\n",
    " - Reproject the data from WGS84 to `EPSG:32735` -projection which stands for UTM Zone 35S (UTM zone for South Africa) to transform the data into metric system. (don't create a new variable, update the existing variable `data`!)"
   ]
  },
  {
   "cell_type": "code",
   "execution_count": 2,
   "metadata": {
    "deletable": false,
    "nbgrader": {
     "cell_type": "code",
     "checksum": "2f08d863ddefcbdd535aaae138bde86c",
     "grade": false,
     "grade_id": "reproject",
     "locked": false,
     "schema_version": 3,
     "solution": true,
     "task": false
    }
   },
   "outputs": [],
   "source": [
    "# YOUR CODE HERE\n",
    "data.crs = {'init' :'epsg:4326'}\n",
    "data = data.to_crs(epsg=32735)"
   ]
  },
  {
   "cell_type": "code",
   "execution_count": 3,
   "metadata": {
    "deletable": false,
    "editable": false,
    "nbgrader": {
     "cell_type": "code",
     "checksum": "af7945d4a1fac737bc0d7da2d248bddb",
     "grade": true,
     "grade_id": "problem_3_gdp_test",
     "locked": true,
     "points": 0.5,
     "schema_version": 3,
     "solution": false
    }
   },
   "outputs": [
    {
     "name": "stdout",
     "output_type": "stream",
     "text": [
      "         lat        lon         timestamp    userid  \\\n",
      "0 -24.980792  31.484633  2015-07-07 03:02  66487960   \n",
      "1 -25.499225  31.508906  2015-07-07 03:18  65281761   \n",
      "2 -24.342578  30.930866  2015-03-07 03:38  90916112   \n",
      "3 -24.854614  31.519718  2015-10-07 05:04  37959089   \n",
      "4 -24.921069  31.520836  2015-10-07 05:19  27793716   \n",
      "\n",
      "                         geometry  \n",
      "0  POINT (952912.890 7229683.258)  \n",
      "1  POINT (953433.223 7172080.632)  \n",
      "2  POINT (898955.144 7302197.408)  \n",
      "3  POINT (956927.218 7243564.942)  \n",
      "4  POINT (956794.955 7236187.926)  \n"
     ]
    }
   ],
   "source": [
    "# NON-EDITABLE CODE CELL FOR TESTING YOUR SOLUTION\n",
    "print(data.head())"
   ]
  },
  {
   "cell_type": "code",
   "execution_count": 4,
   "metadata": {
    "deletable": false,
    "editable": false,
    "nbgrader": {
     "cell_type": "code",
     "checksum": "498786348a23b92458293547750fbad9",
     "grade": true,
     "grade_id": "problem_3_CRS_test",
     "locked": true,
     "points": 1.5,
     "schema_version": 3,
     "solution": false,
     "task": false
    }
   },
   "outputs": [
    {
     "name": "stdout",
     "output_type": "stream",
     "text": [
      "{'init': 'epsg:32735', 'no_defs': True}\n"
     ]
    }
   ],
   "source": [
    "# NON-EDITABLE CODE CELL FOR TESTING YOUR SOLUTION\n",
    "# Check that the crs is correct after re-projecting (should be epsg:32735)\n",
    "print(data.crs)"
   ]
  },
  {
   "cell_type": "markdown",
   "metadata": {},
   "source": [
    " - Group the data by userid"
   ]
  },
  {
   "cell_type": "code",
   "execution_count": 5,
   "metadata": {
    "deletable": false,
    "nbgrader": {
     "cell_type": "code",
     "checksum": "6192e1b2610e7991dc92ac6665886bb3",
     "grade": false,
     "grade_id": "group_data",
     "locked": false,
     "schema_version": 3,
     "solution": true,
     "task": false
    }
   },
   "outputs": [
    {
     "data": {
      "text/plain": [
       "True"
      ]
     },
     "execution_count": 5,
     "metadata": {},
     "output_type": "execute_result"
    }
   ],
   "source": [
    "# YOUR CODE HERE\n",
    "grouped = data.groupby('userid')\n",
    "len(grouped.groups) == data[\"userid\"].nunique()"
   ]
  },
  {
   "cell_type": "code",
   "execution_count": 6,
   "metadata": {
    "deletable": false,
    "editable": false,
    "nbgrader": {
     "cell_type": "code",
     "checksum": "ec8a3931cb867faa117f893813b4b205",
     "grade": true,
     "grade_id": "problem_3_grouped_test",
     "locked": true,
     "points": 0.5,
     "schema_version": 3,
     "solution": false,
     "task": false
    }
   },
   "outputs": [],
   "source": [
    "# NON-EDITABLE CODE CELL FOR TESTING YOUR SOLUTION\n",
    "assert len(grouped.groups) == data[\"userid\"].nunique(), \"Number of groups should match number of unique users!\""
   ]
  },
  {
   "cell_type": "code",
   "execution_count": 7,
   "metadata": {},
   "outputs": [
    {
     "name": "stdout",
     "output_type": "stream",
     "text": [
      "             lat        lon         timestamp    userid  \\\n",
      "0     -24.980792  31.484633  2015-07-07 03:02  66487960   \n",
      "1     -25.499225  31.508906  2015-07-07 03:18  65281761   \n",
      "2     -24.342578  30.930866  2015-03-07 03:38  90916112   \n",
      "3     -24.854614  31.519718  2015-10-07 05:04  37959089   \n",
      "4     -24.921069  31.520836  2015-10-07 05:19  27793716   \n",
      "...          ...        ...               ...       ...   \n",
      "81361 -25.431166  31.952533  2015-11-04 20:38    120615   \n",
      "81368 -25.385833  31.828889  2015-04-05 01:10   5970719   \n",
      "81372 -25.080739  31.918978  2015-08-05 01:52  46410906   \n",
      "81374 -24.799541  31.354469  2015-09-05 02:23  90744213   \n",
      "81377 -25.508851  31.005536  2015-08-05 02:43  78762204   \n",
      "\n",
      "                             geometry  \n",
      "0      POINT (952912.890 7229683.258)  \n",
      "1      POINT (953433.223 7172080.632)  \n",
      "2      POINT (898955.144 7302197.408)  \n",
      "3      POINT (956927.218 7243564.942)  \n",
      "4      POINT (956794.955 7236187.926)  \n",
      "...                               ...  \n",
      "81361  POINT (998394.873 7178043.198)  \n",
      "81368  POINT (986115.441 7183532.368)  \n",
      "81372  POINT (996441.120 7217063.910)  \n",
      "81374  POINT (940395.058 7250220.045)  \n",
      "81377  POINT (902724.670 7172637.035)  \n",
      "\n",
      "[38722 rows x 5 columns]\n"
     ]
    }
   ],
   "source": [
    "print(grouped.head())"
   ]
  },
  {
   "cell_type": "code",
   "execution_count": 50,
   "metadata": {},
   "outputs": [
    {
     "data": {
      "image/svg+xml": [
       "<svg xmlns=\"http://www.w3.org/2000/svg\" xmlns:xlink=\"http://www.w3.org/1999/xlink\" width=\"300\" height=\"300\" viewBox=\"938847.3372929317 7252788.190788413 4421.947782903444 2011.705964045599\" preserveAspectRatio=\"xMinYMin meet\"><g transform=\"matrix(1,0,0,-1,0,14507588.087540872)\"><polyline fill=\"none\" stroke=\"#66cc99\" stroke-width=\"29.47965188602296\" points=\"939011.113136743,7254636.120908648 942231.6303657251,7254606.8677609125 943105.509232024,7252951.966632225\" opacity=\"0.8\" /></g></svg>"
      ],
      "text/plain": [
       "<shapely.geometry.linestring.LineString at 0x1f987eb9988>"
      ]
     },
     "execution_count": 50,
     "metadata": {},
     "output_type": "execute_result"
    }
   ],
   "source": [
    "test = grouped.get_group(16301)\n",
    "line = LineString([test.iloc[0].geometry, test.iloc[1].geometry, test.iloc[2].geometry])\n",
    "line"
   ]
  },
  {
   "cell_type": "markdown",
   "metadata": {},
   "source": [
    "**Then:**\n",
    "- Create an empty GeoDataFrame called `movements`\n",
    "- Create a for-loop where you iterate over the grouped object. For each user's data: \n",
    "    - [sort](http://pandas.pydata.org/pandas-docs/stable/generated/pandas.DataFrame.sort_values.html) the rows by timestamp \n",
    "    - create a LineString object based on the user's points\n",
    "    - add the geometry and the userid into the `movements` dataframe (one userid per row). You can achieve this either by using the `.at` indexer, or the `append` method. See hints for more help.\n",
    "- Set the CRS of the ``movements`` GeoDataFrame as ``EPSG:32735`` "
   ]
  },
  {
   "cell_type": "code",
   "execution_count": 61,
   "metadata": {
    "deletable": false,
    "nbgrader": {
     "cell_type": "code",
     "checksum": "474c18c655461eeae34816f4a8c79b95",
     "grade": false,
     "grade_id": "create_lines",
     "locked": false,
     "schema_version": 3,
     "solution": true
    }
   },
   "outputs": [],
   "source": [
    "# YOUR CODE HERE\n",
    "movements = gpd.GeoDataFrame()\n",
    "\n",
    "#df = data.groupby(['userid'])['geometry'].apply(lambda x: LineString(x.tolist()) if x.size > 1 else x.tolist())\n",
    "df = grouped.filter(lambda x: len(x) > 1)\n",
    "df = df.groupby('userid')\n",
    "\n",
    "df = df['geometry'].apply(lambda x: LineString(x.tolist()))\n",
    "movements['geometry'] = df\n"
   ]
  },
  {
   "cell_type": "code",
   "execution_count": 62,
   "metadata": {
    "deletable": false,
    "editable": false,
    "nbgrader": {
     "cell_type": "code",
     "checksum": "93faad3176849406a2f5eee31d3a8e91",
     "grade": true,
     "grade_id": "problem_3_movements_tests",
     "locked": true,
     "points": 3,
     "schema_version": 3,
     "solution": false,
     "task": false
    }
   },
   "outputs": [
    {
     "data": {
      "text/html": [
       "<div>\n",
       "<style scoped>\n",
       "    .dataframe tbody tr th:only-of-type {\n",
       "        vertical-align: middle;\n",
       "    }\n",
       "\n",
       "    .dataframe tbody tr th {\n",
       "        vertical-align: top;\n",
       "    }\n",
       "\n",
       "    .dataframe thead th {\n",
       "        text-align: right;\n",
       "    }\n",
       "</style>\n",
       "<table border=\"1\" class=\"dataframe\">\n",
       "  <thead>\n",
       "    <tr style=\"text-align: right;\">\n",
       "      <th></th>\n",
       "      <th>geometry</th>\n",
       "    </tr>\n",
       "    <tr>\n",
       "      <th>userid</th>\n",
       "      <th></th>\n",
       "    </tr>\n",
       "  </thead>\n",
       "  <tbody>\n",
       "    <tr>\n",
       "      <td>16301</td>\n",
       "      <td>LINESTRING (939011.113 7254636.121, 942231.630...</td>\n",
       "    </tr>\n",
       "    <tr>\n",
       "      <td>45136</td>\n",
       "      <td>LINESTRING (905394.500 7193375.148, 905394.500...</td>\n",
       "    </tr>\n",
       "    <tr>\n",
       "      <td>50136</td>\n",
       "      <td>LINESTRING (963788.403 7228015.063, 944551.607...</td>\n",
       "    </tr>\n",
       "    <tr>\n",
       "      <td>88775</td>\n",
       "      <td>LINESTRING (902800.817 7192546.975, 902800.839...</td>\n",
       "    </tr>\n",
       "    <tr>\n",
       "      <td>88918</td>\n",
       "      <td>LINESTRING (959332.961 7219877.715, 963788.403...</td>\n",
       "    </tr>\n",
       "  </tbody>\n",
       "</table>\n",
       "</div>"
      ],
      "text/plain": [
       "                                                 geometry\n",
       "userid                                                   \n",
       "16301   LINESTRING (939011.113 7254636.121, 942231.630...\n",
       "45136   LINESTRING (905394.500 7193375.148, 905394.500...\n",
       "50136   LINESTRING (963788.403 7228015.063, 944551.607...\n",
       "88775   LINESTRING (902800.817 7192546.975, 902800.839...\n",
       "88918   LINESTRING (959332.961 7219877.715, 963788.403..."
      ]
     },
     "execution_count": 62,
     "metadata": {},
     "output_type": "execute_result"
    }
   ],
   "source": [
    "# NON-EDITABLE CODE CELL FOR TESTING YOUR SOLUTION\n",
    "movements.head()"
   ]
  },
  {
   "cell_type": "markdown",
   "metadata": {},
   "source": [
    "**Finally:**\n",
    "- Check once the crs definition of your dataframe (should be epsg:32735, define the correct crs if this information is missing)\n",
    "- Calculate the lenghts of the lines into a new column called ``distance`` in ``movements`` GeoDataFrame."
   ]
  },
  {
   "cell_type": "code",
   "execution_count": 64,
   "metadata": {
    "deletable": false,
    "nbgrader": {
     "cell_type": "code",
     "checksum": "62a930ec9c24c5520f9a28db361e8090",
     "grade": false,
     "grade_id": "calculate_distance",
     "locked": false,
     "schema_version": 3,
     "solution": true
    }
   },
   "outputs": [],
   "source": [
    "# YOUR CODE HERE\n",
    "movements.crs = {'init' :'epsg:4326'}\n",
    "\n",
    "distance = []\n",
    "for idx, row in movements.iterrows():\n",
    "    distance.append(row['geometry'].length)\n",
    "    \n",
    "movements['distance'] = distance"
   ]
  },
  {
   "cell_type": "code",
   "execution_count": 65,
   "metadata": {
    "deletable": false,
    "editable": false,
    "nbgrader": {
     "cell_type": "code",
     "checksum": "4cc148908d9a6ab5b7e83b51dcc3bf6a",
     "grade": true,
     "grade_id": "problem_3_distances_test",
     "locked": true,
     "points": 2,
     "schema_version": 3,
     "solution": false,
     "task": false
    }
   },
   "outputs": [
    {
     "data": {
      "text/html": [
       "<div>\n",
       "<style scoped>\n",
       "    .dataframe tbody tr th:only-of-type {\n",
       "        vertical-align: middle;\n",
       "    }\n",
       "\n",
       "    .dataframe tbody tr th {\n",
       "        vertical-align: top;\n",
       "    }\n",
       "\n",
       "    .dataframe thead th {\n",
       "        text-align: right;\n",
       "    }\n",
       "</style>\n",
       "<table border=\"1\" class=\"dataframe\">\n",
       "  <thead>\n",
       "    <tr style=\"text-align: right;\">\n",
       "      <th></th>\n",
       "      <th>geometry</th>\n",
       "      <th>distance</th>\n",
       "    </tr>\n",
       "    <tr>\n",
       "      <th>userid</th>\n",
       "      <th></th>\n",
       "      <th></th>\n",
       "    </tr>\n",
       "  </thead>\n",
       "  <tbody>\n",
       "    <tr>\n",
       "      <td>16301</td>\n",
       "      <td>LINESTRING (939011.113 7254636.121, 942231.630...</td>\n",
       "      <td>195251.395657</td>\n",
       "    </tr>\n",
       "    <tr>\n",
       "      <td>45136</td>\n",
       "      <td>LINESTRING (905394.500 7193375.148, 905394.500...</td>\n",
       "      <td>0.000000</td>\n",
       "    </tr>\n",
       "    <tr>\n",
       "      <td>50136</td>\n",
       "      <td>LINESTRING (963788.403 7228015.063, 944551.607...</td>\n",
       "      <td>254702.529630</td>\n",
       "    </tr>\n",
       "    <tr>\n",
       "      <td>88775</td>\n",
       "      <td>LINESTRING (902800.817 7192546.975, 902800.839...</td>\n",
       "      <td>0.080245</td>\n",
       "    </tr>\n",
       "    <tr>\n",
       "      <td>88918</td>\n",
       "      <td>LINESTRING (959332.961 7219877.715, 963788.403...</td>\n",
       "      <td>9277.252211</td>\n",
       "    </tr>\n",
       "  </tbody>\n",
       "</table>\n",
       "</div>"
      ],
      "text/plain": [
       "                                                 geometry       distance\n",
       "userid                                                                  \n",
       "16301   LINESTRING (939011.113 7254636.121, 942231.630...  195251.395657\n",
       "45136   LINESTRING (905394.500 7193375.148, 905394.500...       0.000000\n",
       "50136   LINESTRING (963788.403 7228015.063, 944551.607...  254702.529630\n",
       "88775   LINESTRING (902800.817 7192546.975, 902800.839...       0.080245\n",
       "88918   LINESTRING (959332.961 7219877.715, 963788.403...    9277.252211"
      ]
     },
     "execution_count": 65,
     "metadata": {},
     "output_type": "execute_result"
    }
   ],
   "source": [
    "# NON-EDITABLE CODE CELL FOR TESTING YOUR SOLUTION\n",
    "movements.head()"
   ]
  },
  {
   "cell_type": "markdown",
   "metadata": {
    "deletable": false,
    "editable": false,
    "nbgrader": {
     "cell_type": "markdown",
     "checksum": "318c1e1c021eda696ae482bbd26ef9da",
     "grade": false,
     "grade_id": "questions",
     "locked": true,
     "schema_version": 3,
     "solution": false
    }
   },
   "source": [
    "You should now be able to print answers to the following questions: \n",
    "\n",
    " - What was the shortest distance travelled in meters?\n",
    " - What was the mean distance travelled in meters?\n",
    " - What was the maximum distance travelled in meters?"
   ]
  },
  {
   "cell_type": "code",
   "execution_count": 71,
   "metadata": {},
   "outputs": [
    {
     "name": "stdout",
     "output_type": "stream",
     "text": [
      "Shortest:  distance    0.0\n",
      "dtype: float64\n",
      "Longest:  distance    4.535319e+06\n",
      "dtype: float64\n",
      "Mean:  distance    69090.382263\n",
      "dtype: float64\n"
     ]
    }
   ],
   "source": [
    "minimum = movements.min(axis=0)\n",
    "print('Shortest: ', minimum)\n",
    "\n",
    "maximum = movements.max(axis=0)\n",
    "print('Longest: ', maximum)\n",
    "\n",
    "avg = movements.mean(axis=0)\n",
    "print('Mean: ', avg)\n"
   ]
  },
  {
   "cell_type": "markdown",
   "metadata": {},
   "source": [
    "- Finally, save the movements of into a Shapefile called ``some_movements.shp``"
   ]
  },
  {
   "cell_type": "code",
   "execution_count": 73,
   "metadata": {
    "deletable": false,
    "nbgrader": {
     "cell_type": "code",
     "checksum": "157bee0141aa073963a58a4362ccc50d",
     "grade": false,
     "grade_id": "save_file",
     "locked": false,
     "schema_version": 3,
     "solution": true,
     "task": false
    }
   },
   "outputs": [],
   "source": [
    "# YOUR CODE HERE\n",
    "fp = \"some_movements.shp\"\n",
    "movements.to_file(fp)"
   ]
  },
  {
   "cell_type": "code",
   "execution_count": null,
   "metadata": {
    "deletable": false,
    "editable": false,
    "nbgrader": {
     "cell_type": "code",
     "checksum": "ae12a4596eb26865cecdcbfd160ae72f",
     "grade": true,
     "grade_id": "problem_3_result_tests",
     "locked": true,
     "points": 0.5,
     "schema_version": 3,
     "solution": false
    }
   },
   "outputs": [],
   "source": [
    "# NON-EDITABLE CODE CELL FOR TESTING YOUR SOLUTION\n",
    "import os\n",
    "assert os.path.isfile(fp), \"output shapefile does not exits\""
   ]
  },
  {
   "cell_type": "markdown",
   "metadata": {},
   "source": [
    "That's all for this week!"
   ]
  }
 ],
 "metadata": {
  "anaconda-cloud": {},
  "kernelspec": {
   "display_name": "Python 3",
   "language": "python",
   "name": "python3"
  },
  "language_info": {
   "codemirror_mode": {
    "name": "ipython",
    "version": 3
   },
   "file_extension": ".py",
   "mimetype": "text/x-python",
   "name": "python",
   "nbconvert_exporter": "python",
   "pygments_lexer": "ipython3",
   "version": "3.7.4"
  }
 },
 "nbformat": 4,
 "nbformat_minor": 4
}
